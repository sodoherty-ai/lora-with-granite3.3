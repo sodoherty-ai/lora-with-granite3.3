{
 "cells": [
  {
   "cell_type": "code",
   "id": "initial_id",
   "metadata": {
    "collapsed": true,
    "ExecuteTime": {
     "end_time": "2025-04-20T17:41:11.762257Z",
     "start_time": "2025-04-20T17:41:11.759845Z"
    }
   },
   "source": [
    "from docling.document_converter import DocumentConverter\n",
    "from transformers import AutoTokenizer\n",
    "import json"
   ],
   "outputs": [],
   "execution_count": 3
  },
  {
   "metadata": {},
   "cell_type": "markdown",
   "source": "#### Convert the PDF to document format in docling.",
   "id": "576dd6a7c222394a"
  },
  {
   "metadata": {
    "ExecuteTime": {
     "end_time": "2025-04-20T17:59:23.877659Z",
     "start_time": "2025-04-20T17:41:43.960207Z"
    }
   },
   "cell_type": "code",
   "source": [
    "source = 'data/watson-assistant.pdf'\n",
    "converter = DocumentConverter()\n",
    "result = converter.convert(source)\n",
    "document = result.document"
   ],
   "id": "c0a1cea3ff2d299c",
   "outputs": [],
   "execution_count": 4
  },
  {
   "metadata": {},
   "cell_type": "markdown",
   "source": "#### Create markdown file.",
   "id": "440d499f5e937228"
  },
  {
   "metadata": {
    "ExecuteTime": {
     "end_time": "2025-04-20T17:59:30.521204Z",
     "start_time": "2025-04-20T17:59:29.621006Z"
    }
   },
   "cell_type": "code",
   "source": [
    "markdown = document.export_to_markdown()\n",
    "with open('data/watson-assistant.md', 'w') as file:\n",
    "    file.write(markdown)"
   ],
   "id": "a2c44e8a19ccfb07",
   "outputs": [],
   "execution_count": 6
  },
  {
   "metadata": {},
   "cell_type": "markdown",
   "source": "#### Chunk the markdown",
   "id": "c58f0607213d7917"
  },
  {
   "metadata": {
    "ExecuteTime": {
     "end_time": "2025-04-20T17:59:48.119356Z",
     "start_time": "2025-04-20T17:59:48.117358Z"
    }
   },
   "cell_type": "code",
   "source": [
    "def chunk_texts(markdown_text, tokenizer, chunk_size=512, overlap=50):\n",
    "    input_ids = tokenizer.encode(markdown_text, add_special_tokens=False)\n",
    "    chunks = []\n",
    "    for i in range(0, len(input_ids), chunk_size - overlap):\n",
    "        chunk_ids = input_ids[i:i + chunk_size]\n",
    "        chunk_text = tokenizer.decode(chunk_ids)\n",
    "        chunks.append({ 'text': chunk_text })\n",
    "    return chunks"
   ],
   "id": "14a383b28768d2b2",
   "outputs": [],
   "execution_count": 8
  },
  {
   "metadata": {
    "ExecuteTime": {
     "end_time": "2025-04-20T18:00:07.344834Z",
     "start_time": "2025-04-20T18:00:06.424575Z"
    }
   },
   "cell_type": "code",
   "source": [
    "tokenizer = AutoTokenizer.from_pretrained('ibm-granite/granite-3.3-8b-instruct')\n",
    "chunks = chunk_texts(markdown, tokenizer)"
   ],
   "id": "d87b62b8194af9b4",
   "outputs": [],
   "execution_count": 11
  },
  {
   "metadata": {
    "ExecuteTime": {
     "end_time": "2025-04-20T18:00:18.843570Z",
     "start_time": "2025-04-20T18:00:18.835277Z"
    }
   },
   "cell_type": "code",
   "source": [
    "with open('data/chunks.jsonl', 'w') as file:\n",
    "    for item in chunks:\n",
    "        file.write(json.dumps(item) + '\\n')"
   ],
   "id": "a07bfed023eb799c",
   "outputs": [],
   "execution_count": 13
  },
  {
   "metadata": {},
   "cell_type": "code",
   "outputs": [],
   "execution_count": null,
   "source": "",
   "id": "e7615f1facc91f9b"
  }
 ],
 "metadata": {
  "kernelspec": {
   "display_name": "Python 3",
   "language": "python",
   "name": "python3"
  },
  "language_info": {
   "codemirror_mode": {
    "name": "ipython",
    "version": 2
   },
   "file_extension": ".py",
   "mimetype": "text/x-python",
   "name": "python",
   "nbconvert_exporter": "python",
   "pygments_lexer": "ipython2",
   "version": "2.7.6"
  }
 },
 "nbformat": 4,
 "nbformat_minor": 5
}
