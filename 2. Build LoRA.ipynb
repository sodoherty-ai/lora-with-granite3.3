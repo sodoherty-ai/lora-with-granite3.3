{
 "cells": [
  {
   "cell_type": "code",
   "id": "initial_id",
   "metadata": {
    "collapsed": true
   },
   "source": [
    "model_folder = 'model'\n",
    "model_id = 'ibm-granite/granite-3.3-8b-instruct'"
   ],
   "outputs": [],
   "execution_count": null
  },
  {
   "metadata": {},
   "cell_type": "code",
   "source": [
    "from transformers import AutoTokenizer, AutoModelForCausalLM, TrainingArguments, Trainer, \\\n",
    "    DataCollatorForLanguageModeling\n",
    "import json\n",
    "from peft import LoraConfig, TaskType, get_peft_model\n",
    "from datasets import Dataset\n",
    "import warnings\n",
    "warnings.filterwarnings('ignore')"
   ],
   "id": "22c144381e525e07",
   "outputs": [],
   "execution_count": null
  },
  {
   "metadata": {},
   "cell_type": "code",
   "source": [
    "tokenizer = AutoTokenizer.from_pretrained(model_id)\n",
    "if tokenizer.pad_token is None:\n",
    "    tokenizer.pad_token = tokenizer.eos_token\n",
    "\n",
    "model = AutoModelForCausalLM.from_pretrained(model_id, device_map='auto', torch_dtype='auto', trust_remote_code=True)"
   ],
   "id": "5cd20b14a1be0747",
   "outputs": [],
   "execution_count": null
  },
  {
   "metadata": {},
   "cell_type": "code",
   "outputs": [],
   "execution_count": null,
   "source": "#### Set up LoRA",
   "id": "83ed135e2f53243b"
  },
  {
   "metadata": {},
   "cell_type": "code",
   "source": [
    "config = LoraConfig(\n",
    "    r=8,\n",
    "    lora_alpha=32,\n",
    "    target_modules=['q_proj', 'k_proj', 'v_proj', 'o_proj', 'gate_proj', 'up_proj', 'down_proj'],\n",
    "    lora_dropout=0.05,\n",
    "    bias='none',\n",
    "    task_type=TaskType.CAUSAL_LM,\n",
    "    inference_mode=False,\n",
    "    use_dora=False,\n",
    "    use_rslora=False\n",
    ")\n",
    "\n",
    "model = get_peft_model(model, config)"
   ],
   "id": "a359f2932ced94e7",
   "outputs": [],
   "execution_count": null
  },
  {
   "metadata": {},
   "cell_type": "markdown",
   "source": "#### DatasetS",
   "id": "de2f57025f279674"
  },
  {
   "metadata": {},
   "cell_type": "code",
   "source": [
    "with open('data/chunks.jsonl') as file:\n",
    "    texts = [json.loads(line) for line in file]\n",
    "\n",
    "dataset = Dataset.from_list(texts)\n",
    "tokenized_dataset = dataset.map(\n",
    "    lambda x: tokenizer(x['text'], truncation=True, padding='max_length', max_length=512),\n",
    "    batched=True\n",
    ")"
   ],
   "id": "22306050ee196dd",
   "outputs": [],
   "execution_count": null
  },
  {
   "metadata": {},
   "cell_type": "markdown",
   "source": "#### Trainer setup",
   "id": "b4c6b654abbd7173"
  },
  {
   "metadata": {},
   "cell_type": "code",
   "source": [
    "training_arguments = TrainingArguments(\n",
    "    output_dir=f'./{model_folder}/granite3.3-lora',\n",
    "    per_device_train_batch_size=1,\n",
    "    num_train_epochs=3,\n",
    "    save_steps=5,\n",
    "    save_total_limit=1,\n",
    "    learning_rate=1e-4,\n",
    "    fp16=False,  # If you are using CUDA set this.\n",
    "    bf16=True, # Use for Mac ARM\n",
    "    report_to='none',\n",
    "    logging_strategy='no'\n",
    ")\n",
    "\n",
    "trainer = Trainer(\n",
    "    model=model,\n",
    "    args=training_arguments,\n",
    "    train_dataset=tokenized_dataset,\n",
    "    tokenizer=tokenizer,\n",
    "    data_collator=DataCollatorForLanguageModeling(tokenizer=tokenizer, mlm=False)\n",
    ")"
   ],
   "id": "722346b0b26f7121",
   "outputs": [],
   "execution_count": null
  },
  {
   "metadata": {},
   "cell_type": "markdown",
   "source": "#### Train",
   "id": "8f807dbe34a4165d"
  },
  {
   "metadata": {},
   "cell_type": "code",
   "source": "trainer.train()",
   "id": "1d106012c41dd0c8",
   "outputs": [],
   "execution_count": null
  },
  {
   "metadata": {},
   "cell_type": "markdown",
   "source": "#### Save LoRA",
   "id": "7e63aeb81a00bd4d"
  },
  {
   "metadata": {},
   "cell_type": "code",
   "source": "model.save_pretrained('./{model_folder}/granite3.3-lora-adapter')",
   "id": "edb453ed547e46f8",
   "outputs": [],
   "execution_count": null
  }
 ],
 "metadata": {
  "kernelspec": {
   "display_name": "Python 3",
   "language": "python",
   "name": "python3"
  },
  "language_info": {
   "codemirror_mode": {
    "name": "ipython",
    "version": 2
   },
   "file_extension": ".py",
   "mimetype": "text/x-python",
   "name": "python",
   "nbconvert_exporter": "python",
   "pygments_lexer": "ipython2",
   "version": "2.7.6"
  }
 },
 "nbformat": 4,
 "nbformat_minor": 5
}
